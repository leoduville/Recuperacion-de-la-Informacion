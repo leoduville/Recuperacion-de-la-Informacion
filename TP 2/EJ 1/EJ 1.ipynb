{
 "cells": [
  {
   "cell_type": "code",
   "execution_count": 3,
   "metadata": {},
   "outputs": [],
   "source": [
    "import pandas as pd"
   ]
  },
  {
   "cell_type": "code",
   "execution_count": 4,
   "metadata": {},
   "outputs": [],
   "source": [
    "# Leer archivos de la colección\n",
    "vocabulary = pd.read_csv('ejemploRibeiro/vocabulary.txt', sep='\\t', header=None, names=['id_term', 'idf', 'term'])\n",
    "document_vectors = pd.read_csv('ejemploRibeiro/documentVector.txt', sep=':', header=None, names=['id_doc', 'terms'])\n",
    "queries = pd.read_csv('ejemploRibeiro/queries.txt', sep=':', header=None, names=['id_query', 'terms'])\n",
    "relevants = pd.read_csv('ejemploRibeiro/relevantDocs', sep=':', header=None, names=['id_query', 'relevant_docs'])\n",
    "information_needs = pd.read_csv('ejemploRibeiro/informationNeeds', sep=':', header=None, names=['id_in', 'text'])"
   ]
  },
  {
   "cell_type": "code",
   "execution_count": 5,
   "metadata": {},
   "outputs": [
    {
     "name": "stdout",
     "output_type": "stream",
     "text": [
      "  id_query                     terms\n",
      "1  Query 1            (72, 117, 191)\n",
      "2  Query 2           (147, 195, 196)\n",
      "3  Query 3   (55, 56, 141, 142, 147)\n",
      "4  Query 4           (147, 179, 180)\n",
      "5  Query 5           (147, 182, 184)\n"
     ]
    }
   ],
   "source": [
    "document_vectors = document_vectors.dropna(subset=['terms'])\n",
    "queries = queries.dropna(subset=['terms'])\n",
    "relevants = relevants.dropna(subset=['relevant_docs'])\n",
    "#print(document_vectors.head())\n",
    "print(queries)\n",
    "#print(document_vectors)\n",
    "#print(relevants)\n"
   ]
  },
  {
   "cell_type": "code",
   "execution_count": 6,
   "metadata": {},
   "outputs": [
    {
     "name": "stdout",
     "output_type": "stream",
     "text": [
      "  id_query                     terms                 term_set\n",
      "1  Query 1            (72, 117, 191)           {72, 117, 191}\n",
      "2  Query 2           (147, 195, 196)          {147, 196, 195}\n",
      "3  Query 3   (55, 56, 141, 142, 147)  {141, 142, 147, 55, 56}\n",
      "4  Query 4           (147, 179, 180)          {147, 180, 179}\n",
      "5  Query 5           (147, 182, 184)          {184, 147, 182}\n"
     ]
    }
   ],
   "source": [
    "# Modelo Booleano\n",
    "boolean_results = {}\n",
    "\n",
    "# Convertir la lista de términos de los documentos en conjuntos\n",
    "document_vectors['term_set'] = document_vectors['terms'].apply(lambda x: set(map(int, [term.strip() for term in x.strip(' ()').split(',')])))\n",
    "queries['term_set'] = queries['terms'].apply(lambda x: set(map(int, [term.strip() for term in x.strip(' ()').split(',')])))\n",
    "\n",
    "print(queries)\n",
    "    \n",
    "# Calcular conjuntos de respuestas para el modelo booleano\n",
    "for idx, query_row in queries.iterrows():\n",
    "    query_id = query_row['id_query']\n",
    "    query_terms = query_row['term_set']\n",
    "    boolean_results[query_id] = set()\n",
    "    for idx, doc_row in document_vectors.iterrows():\n",
    "        doc_id = doc_row['id_doc']\n",
    "        doc_terms = doc_row['term_set']\n",
    "        if query_terms.issubset(doc_terms):\n",
    "            boolean_results[query_id].add(doc_id)\n",
    "\n",
    "# Calcular conjuntos de respuestas para el modelo booleano\n",
    "for idx, query_row in queries.iterrows():\n",
    "    query_id = query_row['id_query']\n",
    "    query_terms = query_row['term_set']\n",
    "    boolean_results[query_id] = set()\n",
    "    for idx, doc_row in document_vectors.iterrows():\n",
    "        doc_id = doc_row['id_doc']\n",
    "        doc_terms = doc_row['term_set']\n",
    "        if query_terms.intersection(doc_terms):  # Cambio aquí\n",
    "            boolean_results[query_id].add(doc_id)\n",
    "\n",
    "\n"
   ]
  },
  {
   "cell_type": "code",
   "execution_count": 7,
   "metadata": {},
   "outputs": [
    {
     "name": "stdout",
     "output_type": "stream",
     "text": [
      "Resultados del modelo booleano:\n",
      "Consulta Query 1: Documentos relevantes {'Doc 5', 'Doc 32', 'Doc 29', 'Doc 17', 'Doc 15', 'Doc 25', 'Doc 36'}\n",
      "Consulta Query 2: Documentos relevantes {'Doc 32', 'Doc 4', 'Doc 9', 'Doc 38', 'Doc 18', 'Doc 21', 'Doc 37', 'Doc 19', 'Doc 29', 'Doc 14', 'Doc 10', 'Doc 6', 'Doc 8', 'Doc 1', 'Doc 36'}\n",
      "Consulta Query 3: Documentos relevantes {'Doc 11', 'Doc 20', 'Doc 32', 'Doc 33', 'Doc 18', 'Doc 22', 'Doc 19', 'Doc 34', 'Doc 14', 'Doc 10', 'Doc 8', 'Doc 2'}\n",
      "Consulta Query 4: Documentos relevantes {'Doc 27', 'Doc 32', 'Doc 13', 'Doc 18', 'Doc 35', 'Doc 30', 'Doc 10', 'Doc 8', 'Doc 7'}\n",
      "Consulta Query 5: Documentos relevantes {'Doc 10', 'Doc 8', 'Doc 32', 'Doc 18'}\n"
     ]
    }
   ],
   "source": [
    "# Mostrar los resultados del modelo booleano\n",
    "print(\"Resultados del modelo booleano:\")\n",
    "for query_id, result_docs in boolean_results.items():\n",
    "    print(f\"Consulta {query_id}: Documentos relevantes {result_docs}\")"
   ]
  },
  {
   "cell_type": "code",
   "execution_count": 8,
   "metadata": {},
   "outputs": [],
   "source": [
    "# Modelo Vectorial\n",
    "vector_results = {}"
   ]
  },
  {
   "cell_type": "code",
   "execution_count": 9,
   "metadata": {},
   "outputs": [],
   "source": [
    "# Calcular vectores de términos para documentos y consultas\n",
    "term_vectors = {}\n",
    "for idx, row in vocabulary.iterrows():\n",
    "    term_id = row['id_term']\n",
    "    term = row['term']\n",
    "    term_vectors[term_id] = term"
   ]
  },
  {
   "cell_type": "code",
   "execution_count": 10,
   "metadata": {},
   "outputs": [
    {
     "name": "stdout",
     "output_type": "stream",
     "text": [
      "    id_doc                                              terms  \\\n",
      "1    Doc 1                   (44, 51, 96, 128, 129, 151, 195)   \n",
      "2    Doc 2   (3, 10, 25, 35, 37, 44, 46, 51, 58, 59, 65, 8...   \n",
      "3    Doc 3   (3, 4, 23, 24, 30, 31, 34, 35, 42, 51, 58, 81...   \n",
      "4    Doc 4      (35, 51, 82, 96, 97, 113, 123, 135, 195, 196)   \n",
      "5    Doc 5   (3, 4, 20, 32, 35, 51, 82, 96, 97, 98, 116, 1...   \n",
      "6    Doc 6        (3, 6, 34, 35, 37, 46, 51, 89, 96, 97, 195)   \n",
      "7    Doc 7   (10, 17, 35, 37, 41, 51, 82, 96, 120, 124, 15...   \n",
      "8    Doc 8   (3, 35, 37, 46, 51, 82, 96, 124, 139, 147, 16...   \n",
      "9    Doc 9        (4, 11, 51, 93, 96, 97, 118, 153, 195, 196)   \n",
      "10  Doc 10   (1, 3, 4, 8, 35, 51, 60, 82, 96, 124, 147, 16...   \n",
      "11  Doc 11   (35, 37, 51, 82, 96, 97, 102, 114, 124, 133, ...   \n",
      "12  Doc 12   (3, 4, 5, 10, 28, 29, 35, 37, 51, 58, 59, 64,...   \n",
      "13  Doc 13   (20, 51, 75, 82, 84, 87, 88, 96, 120, 124, 12...   \n",
      "14  Doc 14    (11, 33, 51, 55, 69, 96, 97, 98, 124, 140, 196)   \n",
      "15  Doc 15   (3, 4, 7, 35, 37, 44, 46, 51, 70, 82, 96, 97,...   \n",
      "16  Doc 16   (34, 35, 37, 45, 50, 51, 62, 96, 97, 98, 100,...   \n",
      "17  Doc 17   (9, 22, 51, 53, 58, 83, 84, 85, 90, 96, 102, ...   \n",
      "18  Doc 18   (12, 14, 51, 52, 66, 68, 71, 96, 109, 130, 13...   \n",
      "19  Doc 19   (13, 15, 21, 34, 47, 51, 55, 58, 74, 80, 94, ...   \n",
      "20  Doc 20   (3, 35, 37, 40, 51, 79, 96, 97, 102, 114, 141...   \n",
      "21  Doc 21   (3, 4, 35, 37, 51, 82, 95, 96, 97, 102, 123, ...   \n",
      "22  Doc 22   (24, 35, 51, 56, 57, 58, 59, 63, 96, 109, 136...   \n",
      "23  Doc 23        (3, 16, 37, 38, 51, 96, 131, 137, 173, 178)   \n",
      "24  Doc 24   (3, 4, 35, 37, 51, 61, 96, 97, 98, 139, 140, ...   \n",
      "25  Doc 25            (3, 35, 51, 92, 96, 160, 164, 191, 202)   \n",
      "26  Doc 26          (35, 37, 43, 51, 76, 81, 82, 91, 96, 124)   \n",
      "27  Doc 27                    (35, 39, 51, 96, 139, 168, 179)   \n",
      "28  Doc 28             (18, 34, 35, 37, 51, 81, 96, 144, 187)   \n",
      "29  Doc 29   (3, 35, 37, 48, 49, 51, 67, 82, 96, 124, 191,...   \n",
      "30  Doc 30   (3, 27, 35, 37, 39, 51, 54, 82, 86, 96, 124, ...   \n",
      "31  Doc 31                                       (51, 54, 96)   \n",
      "32  Doc 32   (3, 4, 35, 51, 55, 90, 92, 96, 147, 151, 160,...   \n",
      "33  Doc 33   (3, 4, 34, 35, 43, 51, 67, 82, 91, 96, 123, 1...   \n",
      "34  Doc 34                                 (51, 96, 141, 190)   \n",
      "35  Doc 35            (33, 35, 39, 51, 96, 97, 124, 139, 179)   \n",
      "36  Doc 36   (51, 59, 72, 78, 96, 97, 107, 111, 135, 162, ...   \n",
      "37  Doc 37   (2, 11, 19, 26, 35, 36, 37, 51, 96, 97, 99, 1...   \n",
      "38  Doc 38   (3, 23, 35, 37, 40, 51, 77, 78, 82, 96, 97, 1...   \n",
      "\n",
      "                                             term_set  \n",
      "1                    {96, 129, 128, 195, 44, 51, 151}  \n",
      "2   {3, 10, 141, 149, 25, 35, 37, 44, 46, 51, 58, ...  \n",
      "3   {3, 4, 133, 134, 144, 23, 24, 155, 30, 31, 34,...  \n",
      "4       {96, 97, 35, 195, 196, 135, 113, 82, 51, 123}  \n",
      "5   {3, 4, 20, 154, 32, 162, 35, 170, 171, 172, 51...  \n",
      "6         {96, 97, 34, 35, 3, 37, 6, 195, 46, 51, 89}  \n",
      "7   {96, 35, 37, 41, 10, 174, 175, 17, 82, 51, 179...  \n",
      "8   {96, 35, 3, 37, 169, 139, 46, 82, 51, 147, 178...  \n",
      "9         {96, 97, 195, 4, 196, 11, 51, 118, 153, 93}  \n",
      "10  {96, 1, 3, 4, 35, 166, 8, 169, 124, 82, 51, 14...  \n",
      "11  {96, 97, 35, 37, 102, 133, 141, 82, 51, 114, 124}  \n",
      "12  {3, 4, 5, 10, 146, 149, 28, 29, 162, 35, 37, 1...  \n",
      "13  {96, 159, 162, 167, 75, 139, 124, 82, 51, 20, ...  \n",
      "14    {96, 33, 97, 98, 196, 69, 11, 140, 51, 55, 124}  \n",
      "15  {96, 97, 192, 35, 3, 4, 37, 7, 70, 102, 138, 4...  \n",
      "16  {96, 97, 34, 35, 98, 37, 100, 103, 45, 50, 51,...  \n",
      "17  {133, 135, 9, 140, 22, 162, 51, 53, 58, 187, 1...  \n",
      "18  {96, 66, 130, 68, 132, 134, 71, 165, 200, 12, ...  \n",
      "19  {13, 15, 21, 156, 157, 161, 34, 162, 47, 51, 5...  \n",
      "20  {96, 97, 35, 3, 37, 102, 40, 141, 79, 114, 51,...  \n",
      "21  {96, 97, 35, 3, 4, 37, 102, 195, 196, 140, 187...  \n",
      "22  {96, 35, 58, 136, 109, 141, 187, 51, 24, 57, 5...  \n",
      "23        {96, 3, 131, 37, 38, 137, 173, 16, 178, 51}  \n",
      "24  {96, 97, 98, 35, 3, 4, 37, 162, 139, 140, 143,...  \n",
      "25            {96, 160, 35, 3, 164, 202, 51, 92, 191}  \n",
      "26          {96, 35, 37, 43, 76, 81, 82, 51, 91, 124}  \n",
      "27                    {96, 35, 39, 168, 139, 51, 179}  \n",
      "28             {96, 34, 35, 37, 144, 81, 18, 51, 187}  \n",
      "29  {96, 35, 3, 37, 67, 195, 48, 49, 82, 51, 124, ...  \n",
      "30  {96, 35, 3, 37, 39, 82, 51, 148, 178, 54, 86, ...  \n",
      "31                                       {96, 51, 54}  \n",
      "32  {96, 160, 35, 3, 4, 202, 51, 147, 182, 55, 151...  \n",
      "33  {96, 34, 35, 3, 4, 67, 43, 123, 141, 144, 82, ...  \n",
      "34                                 {96, 51, 141, 190}  \n",
      "35            {96, 33, 97, 35, 39, 139, 51, 179, 124}  \n",
      "36  {135, 162, 163, 178, 51, 186, 59, 192, 193, 19...  \n",
      "37  {96, 97, 2, 35, 36, 37, 99, 101, 161, 195, 196...  \n",
      "38  {96, 97, 35, 3, 37, 195, 196, 40, 77, 78, 82, ...  \n"
     ]
    }
   ],
   "source": [
    "# Calcular vectores de términos para documentos\n",
    "print(document_vectors)\n",
    "document_vectors['term_vector'] = document_vectors['terms'].apply(lambda x: set(map(int, [term.strip() for term in x.strip(' ()').split(',')])))\n",
    "document_vectors['term_vector'] = document_vectors['term_vector'].apply(lambda x: {term_id: 1 for term_id in x})"
   ]
  },
  {
   "cell_type": "code",
   "execution_count": 11,
   "metadata": {},
   "outputs": [],
   "source": [
    "# Calcular vectores de términos para consultas\n",
    "queries['term_vector'] = queries['terms'].apply(lambda x: set(map(int, [term.strip() for term in x.strip(' ()').split(',')])))\n",
    "queries['term_vector'] = queries['term_vector'].apply(lambda x: {term_id: 1 for term_id in x})"
   ]
  },
  {
   "cell_type": "code",
   "execution_count": 18,
   "metadata": {},
   "outputs": [],
   "source": [
    "# Calcular similitud coseno entre vectores de consultas y documentos\n",
    "for idx, query_row in queries.iterrows():\n",
    "    query_id = query_row['id_query']\n",
    "    query_vector = query_row['term_vector']\n",
    "    vector_results[query_id] = {}\n",
    "    for idx, doc_row in document_vectors.iterrows():\n",
    "        doc_id = doc_row['id_doc']\n",
    "        doc_vector = doc_row['term_vector']\n",
    "        intersection = sum(query_vector.get(term_id, 0) * doc_vector.get(term_id, 0) for term_id in query_vector)\n",
    "        query_norm = sum(val ** 2 for val in query_vector.values()) ** 0.5\n",
    "        doc_norm = sum(val ** 2 for val in doc_vector.values()) ** 0.5\n",
    "        cosine_similarity = intersection / (query_norm * doc_norm)\n",
    "        # Agregar al vector de resultados solo si la similitud coseno es diferente de 0\n",
    "        if cosine_similarity != 0:\n",
    "            vector_results[query_id][doc_id] = cosine_similarity\n"
   ]
  },
  {
   "cell_type": "code",
   "execution_count": 19,
   "metadata": {},
   "outputs": [],
   "source": [
    "# Encontrar los documentos más relevantes para cada consulta\n",
    "for query_id, result_docs in vector_results.items():\n",
    "    sorted_docs = sorted(result_docs.items(), key=lambda x: x[1], reverse=True)\n",
    "    relevant_docs = [doc_id for doc_id, _ in sorted_docs]\n",
    "    vector_results[query_id] = relevant_docs"
   ]
  },
  {
   "cell_type": "code",
   "execution_count": 20,
   "metadata": {},
   "outputs": [
    {
     "name": "stdout",
     "output_type": "stream",
     "text": [
      "\n",
      "Resultados del modelo vectorial:\n",
      "Consulta Query 1: Documentos relevantes ['Doc 5', 'Doc 25', 'Doc 29', 'Doc 32', 'Doc 15', 'Doc 36']\n",
      "Consulta Query 2: Documentos relevantes ['Doc 4', 'Doc 9', 'Doc 21', 'Doc 38', 'Doc 37', 'Doc 19', 'Doc 1', 'Doc 6', 'Doc 14', 'Doc 29', 'Doc 22', 'Doc 36']\n",
      "Consulta Query 3: Documentos relevantes ['Doc 22', 'Doc 34', 'Doc 11', 'Doc 20', 'Doc 8', 'Doc 33', 'Doc 10', 'Doc 32', 'Doc 18', 'Doc 2']\n",
      "Consulta Query 4: Documentos relevantes ['Doc 27', 'Doc 35', 'Doc 7', 'Doc 8', 'Doc 30', 'Doc 10', 'Doc 32', 'Doc 18', 'Doc 13']\n",
      "Consulta Query 5: Documentos relevantes ['Doc 8', 'Doc 10', 'Doc 32', 'Doc 18']\n"
     ]
    }
   ],
   "source": [
    "# Mostrar los resultados del modelo vectorial\n",
    "print(\"\\nResultados del modelo vectorial:\")\n",
    "for query_id, result_docs in vector_results.items():\n",
    "    print(f\"Consulta {query_id}: Documentos relevantes {result_docs}\")"
   ]
  },
  {
   "cell_type": "code",
   "execution_count": 21,
   "metadata": {},
   "outputs": [
    {
     "name": "stdout",
     "output_type": "stream",
     "text": [
      "Resultados del modelo booleano:\n",
      "Consulta Query 1: Documentos relevantes {'Doc 5', 'Doc 32', 'Doc 29', 'Doc 15', 'Doc 25', 'Doc 36'}\n",
      "Consulta Query 2: Documentos relevantes {'Doc 4', 'Doc 9', 'Doc 38', 'Doc 37', 'Doc 22', 'Doc 19', 'Doc 29', 'Doc 14', 'Doc 21', 'Doc 6', 'Doc 1', 'Doc 36'}\n",
      "Consulta Query 3: Documentos relevantes {'Doc 11', 'Doc 20', 'Doc 32', 'Doc 33', 'Doc 18', 'Doc 22', 'Doc 34', 'Doc 10', 'Doc 8', 'Doc 2'}\n",
      "Consulta Query 4: Documentos relevantes {'Doc 27', 'Doc 32', 'Doc 13', 'Doc 18', 'Doc 35', 'Doc 30', 'Doc 10', 'Doc 8', 'Doc 7'}\n",
      "Consulta Query 5: Documentos relevantes {'Doc 10', 'Doc 8', 'Doc 32', 'Doc 18'}\n",
      "\n",
      "Resultados del modelo vectorial:\n",
      "Consulta Query 1: Documentos relevantes ['Doc 5', 'Doc 25', 'Doc 29', 'Doc 32', 'Doc 15', 'Doc 36']\n",
      "Consulta Query 2: Documentos relevantes ['Doc 4', 'Doc 9', 'Doc 21', 'Doc 38', 'Doc 37', 'Doc 19', 'Doc 1', 'Doc 6', 'Doc 14', 'Doc 29', 'Doc 22', 'Doc 36']\n",
      "Consulta Query 3: Documentos relevantes ['Doc 22', 'Doc 34', 'Doc 11', 'Doc 20', 'Doc 8', 'Doc 33', 'Doc 10', 'Doc 32', 'Doc 18', 'Doc 2']\n",
      "Consulta Query 4: Documentos relevantes ['Doc 27', 'Doc 35', 'Doc 7', 'Doc 8', 'Doc 30', 'Doc 10', 'Doc 32', 'Doc 18', 'Doc 13']\n",
      "Consulta Query 5: Documentos relevantes ['Doc 8', 'Doc 10', 'Doc 32', 'Doc 18']\n"
     ]
    }
   ],
   "source": [
    "# A continuacion, se realizaran queries similares teniendo en cuenta las necesidades de información\n",
    "\n",
    "queries = pd.read_csv('ejemploRibeiro/queries2.txt', sep=':', header=None, names=['id_query', 'terms'])\n",
    "queries = queries.dropna(subset=['terms'])\n",
    "\n",
    "queries['term_set'] = queries['terms'].apply(lambda x: set(map(int, [term.strip() for term in x.strip(' ()').split(',')])))\n",
    "\n",
    "# Calcular conjuntos de respuestas para el modelo booleano\n",
    "for idx, query_row in queries.iterrows():\n",
    "    query_id = query_row['id_query']\n",
    "    query_terms = query_row['term_set']\n",
    "    boolean_results[query_id] = set()\n",
    "    for idx, doc_row in document_vectors.iterrows():\n",
    "        doc_id = doc_row['id_doc']\n",
    "        doc_terms = doc_row['term_set']\n",
    "        if query_terms.issubset(doc_terms):\n",
    "            boolean_results[query_id].add(doc_id)\n",
    "\n",
    "# Calcular conjuntos de respuestas para el modelo booleano\n",
    "for idx, query_row in queries.iterrows():\n",
    "    query_id = query_row['id_query']\n",
    "    query_terms = query_row['term_set']\n",
    "    boolean_results[query_id] = set()\n",
    "    for idx, doc_row in document_vectors.iterrows():\n",
    "        doc_id = doc_row['id_doc']\n",
    "        doc_terms = doc_row['term_set']\n",
    "        if query_terms.intersection(doc_terms):  # Cambio aquí\n",
    "            boolean_results[query_id].add(doc_id)\n",
    "\n",
    "# Mostrar los resultados del modelo booleano\n",
    "print(\"Resultados del modelo booleano:\")\n",
    "for query_id, result_docs in boolean_results.items():\n",
    "    print(f\"Consulta {query_id}: Documentos relevantes {result_docs}\")\n",
    "\n",
    "\n",
    "# Modelo Vectorial\n",
    "vector_results = {}\n",
    "\n",
    "# Calcular vectores de términos para documentos y consultas\n",
    "term_vectors = {}\n",
    "for idx, row in vocabulary.iterrows():\n",
    "    term_id = row['id_term']\n",
    "    term = row['term']\n",
    "    term_vectors[term_id] = term\n",
    "\n",
    "# Calcular vectores de términos para documentos\n",
    "document_vectors['term_vector'] = document_vectors['terms'].apply(lambda x: set(map(int, [term.strip() for term in x.strip(' ()').split(',')])))\n",
    "document_vectors['term_vector'] = document_vectors['term_vector'].apply(lambda x: {term_id: 1 for term_id in x})\n",
    "\n",
    "# Calcular vectores de términos para consultas\n",
    "queries['term_vector'] = queries['terms'].apply(lambda x: set(map(int, [term.strip() for term in x.strip(' ()').split(',')])))\n",
    "queries['term_vector'] = queries['term_vector'].apply(lambda x: {term_id: 1 for term_id in x})\n",
    "\n",
    "# Calcular similitud coseno entre vectores de consultas y documentos\n",
    "for idx, query_row in queries.iterrows():\n",
    "    query_id = query_row['id_query']\n",
    "    query_vector = query_row['term_vector']\n",
    "    vector_results[query_id] = {}\n",
    "    for idx, doc_row in document_vectors.iterrows():\n",
    "        doc_id = doc_row['id_doc']\n",
    "        doc_vector = doc_row['term_vector']\n",
    "        intersection = sum(query_vector.get(term_id, 0) * doc_vector.get(term_id, 0) for term_id in query_vector)\n",
    "        query_norm = sum(val ** 2 for val in query_vector.values()) ** 0.5\n",
    "        doc_norm = sum(val ** 2 for val in doc_vector.values()) ** 0.5\n",
    "        cosine_similarity = intersection / (query_norm * doc_norm)\n",
    "        # Agregar al vector de resultados solo si la similitud coseno es diferente de 0\n",
    "        if cosine_similarity != 0:\n",
    "            vector_results[query_id][doc_id] = cosine_similarity\n",
    "\n",
    "\n",
    "# Encontrar los documentos más relevantes para cada consulta\n",
    "for query_id, result_docs in vector_results.items():\n",
    "    sorted_docs = sorted(result_docs.items(), key=lambda x: x[1], reverse=True)\n",
    "    relevant_docs = [doc_id for doc_id, _ in sorted_docs]\n",
    "    vector_results[query_id] = relevant_docs\n",
    "\n",
    "# Mostrar los resultados del modelo vectorial\n",
    "print(\"\\nResultados del modelo vectorial:\")\n",
    "for query_id, result_docs in vector_results.items():\n",
    "    print(f\"Consulta {query_id}: Documentos relevantes {result_docs}\")\n"
   ]
  },
  {
   "cell_type": "code",
   "execution_count": null,
   "metadata": {},
   "outputs": [],
   "source": []
  }
 ],
 "metadata": {
  "kernelspec": {
   "display_name": "Python 3",
   "language": "python",
   "name": "python3"
  },
  "language_info": {
   "codemirror_mode": {
    "name": "ipython",
    "version": 3
   },
   "file_extension": ".py",
   "mimetype": "text/x-python",
   "name": "python",
   "nbconvert_exporter": "python",
   "pygments_lexer": "ipython3",
   "version": "3.11.4"
  }
 },
 "nbformat": 4,
 "nbformat_minor": 2
}
