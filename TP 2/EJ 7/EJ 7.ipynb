{
 "cells": [
  {
   "cell_type": "code",
   "execution_count": null,
   "metadata": {},
   "outputs": [],
   "source": [
    "#Comparacion Terrier vs mi software\n",
    "#Resultados con la consulta \"software\" en terrier\n",
    "\n",
    "#qid\tdocid\tfilename\trank\tscore\tquery\n",
    "# 0\t1\t2702\ten\\articles\\j\\f\\i\\JFin_1830.html\t0\t6.463159\tsoftware\n",
    "# 1\t1\t5087\ten\\articles\\s\\t\\e\\Stellarium.html\t1\t6.448018\tsoftware\n",
    "# 2\t1\t554\t    en\\articles\\a\\u\\t\\Autodesk_Developer_Network_c...\t2\t6.426105\tsoftware\n",
    "# 3\t1\t4646\ten\\articles\\r\\o\\x\\ROX_Desktop_b4f8.html\t3\t6.350863\tsoftware\n",
    "# 4\t1\t2887\ten\\articles\\k\\a\\o\\KAOS_(software_development)_...\t4\t6.291252\tsoftware\n",
    "# 5\t1\t1032\ten\\articles\\c\\d\\r\\CDRWIN_b7e8.html\t5\t6.170152\tsoftware\n",
    "# 6\t1\t3658\ten\\articles\\m\\i\\c\\Microtuner.html\t6\t6.152080\tsoftware\n",
    "# 7\t1\t4337\ten\\articles\\p\\p\\3\\PP3_444f.html\t7\t6.149680\tsoftware\n",
    "# 8\t1\t1892\ten\\articles\\f\\o\\r\\Fortress_(software).html\t8\t6.119815\tsoftware\n",
    "# 9\t1\t5969\ten\\articles\\y\\a\\s\\Yass_(software).html\t9\t6.050842\tsoftware\n",
    "# 10 1  4784\ten\\articles\\s\\c\\r\\Scramdisk.html\t10\t5.981605\tsoftware\n",
    "\n",
    "# En mi software\n",
    "# Documento: ROX_Desktop_b4f8.html, Puntaje: 0.3276\n",
    "# Documento: JFin_1830.html, Puntaje: 0.3075\n",
    "# Documento: Stellarium.html, Puntaje: 0.2723\n",
    "# Documento: Autodesk_Developer_Network_cf4f.html, Puntaje: 0.2669 \n",
    "# Documento: KAOS_(software_development)_665f.html, Puntaje: 0.2172\n",
    "# Documento: Electronic_data_capture.html, Puntaje: 0.1215\n",
    "# Documento: Pvserver.html, Puntaje: 0.1175\n",
    "# Documento: Reactor_(Havok)_5dbb.html, Puntaje: 0.1159\n",
    "# Documento: MiKTeX_fd58.html, Puntaje: 0.1152\n",
    "# Documento: PP3_444f.html, Puntaje: 0.0992\n",
    "\n",
    "# Los resultados son bastante similares, se nota un cambio en el orden de los mismos"
   ]
  }
 ],
 "metadata": {
  "language_info": {
   "name": "python"
  }
 },
 "nbformat": 4,
 "nbformat_minor": 2
}
