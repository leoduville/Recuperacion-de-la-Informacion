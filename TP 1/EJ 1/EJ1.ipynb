{
 "cells": [
  {
   "cell_type": "code",
   "execution_count": 1,
   "metadata": {},
   "outputs": [
    {
     "ename": "OSError",
     "evalue": "[WinError 123] El nombre de archivo, el nombre de directorio o la sintaxis de la etiqueta del volumen no son correctos: '--f=c:\\\\Users\\\\leo_2\\\\AppData\\\\Roaming\\\\jupyter\\\\runtime\\\\kernel-v2-7452BP8RYNHkTnRH.json'",
     "output_type": "error",
     "traceback": [
      "\u001b[1;31m---------------------------------------------------------------------------\u001b[0m",
      "\u001b[1;31mOSError\u001b[0m                                   Traceback (most recent call last)",
      "Cell \u001b[1;32mIn[1], line 53\u001b[0m\n\u001b[0;32m     50\u001b[0m directory \u001b[38;5;241m=\u001b[39m sys\u001b[38;5;241m.\u001b[39margv[\u001b[38;5;241m1\u001b[39m]\n\u001b[0;32m     51\u001b[0m stopwords_file \u001b[38;5;241m=\u001b[39m sys\u001b[38;5;241m.\u001b[39margv[\u001b[38;5;241m2\u001b[39m] \u001b[38;5;28;01mif\u001b[39;00m \u001b[38;5;28mlen\u001b[39m(sys\u001b[38;5;241m.\u001b[39margv) \u001b[38;5;241m>\u001b[39m \u001b[38;5;241m2\u001b[39m \u001b[38;5;28;01melse\u001b[39;00m \u001b[38;5;28;01mNone\u001b[39;00m\n\u001b[1;32m---> 53\u001b[0m \u001b[43mgenerate_lexical_analysis\u001b[49m\u001b[43m(\u001b[49m\u001b[43mdirectory\u001b[49m\u001b[43m,\u001b[49m\u001b[43m \u001b[49m\u001b[43mstopwords_file\u001b[49m\u001b[43m)\u001b[49m\n",
      "Cell \u001b[1;32mIn[1], line 24\u001b[0m, in \u001b[0;36mgenerate_lexical_analysis\u001b[1;34m(directory, stopwords_file, min_length, max_length)\u001b[0m\n\u001b[0;32m     21\u001b[0m term_frequency \u001b[38;5;241m=\u001b[39m defaultdict(\u001b[38;5;28mint\u001b[39m)  \u001b[38;5;66;03m# Frecuencia de términos\u001b[39;00m\n\u001b[0;32m     22\u001b[0m document_frequency \u001b[38;5;241m=\u001b[39m defaultdict(\u001b[38;5;28mint\u001b[39m)  \u001b[38;5;66;03m# Document Frequency\u001b[39;00m\n\u001b[1;32m---> 24\u001b[0m \u001b[38;5;28;01mfor\u001b[39;00m filename \u001b[38;5;129;01min\u001b[39;00m \u001b[43mos\u001b[49m\u001b[38;5;241;43m.\u001b[39;49m\u001b[43mlistdir\u001b[49m\u001b[43m(\u001b[49m\u001b[43mdirectory\u001b[49m\u001b[43m)\u001b[49m:\n\u001b[0;32m     25\u001b[0m     \u001b[38;5;28;01mif\u001b[39;00m filename\u001b[38;5;241m.\u001b[39mendswith(\u001b[38;5;124m'\u001b[39m\u001b[38;5;124m.txt\u001b[39m\u001b[38;5;124m'\u001b[39m):\n\u001b[0;32m     26\u001b[0m         file_path \u001b[38;5;241m=\u001b[39m os\u001b[38;5;241m.\u001b[39mpath\u001b[38;5;241m.\u001b[39mjoin(directory, filename)\n",
      "\u001b[1;31mOSError\u001b[0m: [WinError 123] El nombre de archivo, el nombre de directorio o la sintaxis de la etiqueta del volumen no son correctos: '--f=c:\\\\Users\\\\leo_2\\\\AppData\\\\Roaming\\\\jupyter\\\\runtime\\\\kernel-v2-7452BP8RYNHkTnRH.json'"
     ]
    }
   ],
   "source": [
    "import os\n",
    "import sys\n",
    "import re\n",
    "from collections import defaultdict\n",
    "\n",
    "def tokenize(text):\n",
    "    # Utilizamos una expresión regular para dividir el texto en palabras\n",
    "    return re.findall(r'\\w+', text.lower())\n",
    "\n",
    "def process_document(file_path):\n",
    "    with open(file_path, 'r', encoding='utf-8') as file:\n",
    "        text = file.read()\n",
    "        return tokenize(text)\n",
    "\n",
    "def remove_stopwords(terms, stopwords_file):\n",
    "    with open(stopwords_file, 'r', encoding='utf-8') as file:\n",
    "        stopwords = set(file.read().splitlines())\n",
    "    return [term for term in terms if term not in stopwords]\n",
    "\n",
    "def generate_lexical_analysis(directory, stopwords_file=None, min_length=1, max_length=float('inf')):\n",
    "    term_frequency = defaultdict(int)  # Frecuencia de términos\n",
    "    document_frequency = defaultdict(int)  # Document Frequency\n",
    "\n",
    "    for filename in os.listdir(directory):\n",
    "        if filename.endswith('.txt'):\n",
    "            file_path = os.path.join(directory, filename)\n",
    "            terms = process_document(file_path)\n",
    "\n",
    "            if stopwords_file:\n",
    "                terms = remove_stopwords(terms, stopwords_file)\n",
    "\n",
    "            for term in terms:\n",
    "                if min_length <= len(term) <= max_length:\n",
    "                    term_frequency[term] += 1\n",
    "\n",
    "            for term in set(terms):\n",
    "                if min_length <= len(term) <= max_length:\n",
    "                    document_frequency[term] += 1\n",
    "\n",
    "    # Escribir resultados en el archivo terminos.txt\n",
    "    with open('terminos.txt', 'w', encoding='utf-8') as output_file:\n",
    "        for term in sorted(term_frequency.keys()):\n",
    "            output_file.write(f\"${term} [ESP] {term_frequency[term]} [ESP] {document_frequency[term]}\\n\")\n",
    "\n",
    "if __name__ == \"__main__\":\n",
    "    if len(sys.argv) < 2:\n",
    "        print(\"Uso: python programa.py <directorio> [opcional: <archivo_stopwords>]\")\n",
    "        sys.exit(1)\n",
    "    \n",
    "    directory = sys.argv[1]\n",
    "    stopwords_file = sys.argv[2] if len(sys.argv) > 2 else None\n",
    "\n",
    "    generate_lexical_analysis(directory, stopwords_file)\n"
   ]
  }
 ],
 "metadata": {
  "kernelspec": {
   "display_name": "Python 3",
   "language": "python",
   "name": "python3"
  },
  "language_info": {
   "codemirror_mode": {
    "name": "ipython",
    "version": 3
   },
   "file_extension": ".py",
   "mimetype": "text/x-python",
   "name": "python",
   "nbconvert_exporter": "python",
   "pygments_lexer": "ipython3",
   "version": "3.11.4"
  }
 },
 "nbformat": 4,
 "nbformat_minor": 2
}
